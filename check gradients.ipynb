{
 "cells": [
  {
   "cell_type": "code",
   "execution_count": 1,
   "id": "8412bb0c",
   "metadata": {},
   "outputs": [
    {
     "name": "stderr",
     "output_type": "stream",
     "text": [
      "Matplotlib created a temporary config/cache directory at /tmp/matplotlib-76hfiwxk because the default path (/home/jaron/.cache/matplotlib) is not a writable directory; it is highly recommended to set the MPLCONFIGDIR environment variable to a writable directory, in particular to speed up the import of Matplotlib and to better support multiprocessing.\n"
     ]
    }
   ],
   "source": [
    "# import standard libraries\n",
    "import numpy as np\n",
    "import matplotlib.pyplot as plt"
   ]
  },
  {
   "cell_type": "markdown",
   "id": "54b789c5",
   "metadata": {},
   "source": [
    "# Compare Auto Diff speed"
   ]
  },
  {
   "cell_type": "code",
   "execution_count": 31,
   "id": "badcf77c",
   "metadata": {},
   "outputs": [],
   "source": [
    "# JAX\n",
    "import jax \n",
    "import jax.numpy as jnp\n",
    "\n",
    "# random parameters\n",
    "dim = 20\n",
    "A = np.random.randn(dim, dim)\n",
    "A = -(A@A.T)\n",
    "b = np.random.randn(dim)/10.\n",
    "x = np.random.randn(dim)\n",
    "\n",
    "# function \n",
    "f = lambda x, A, b: A@x + b"
   ]
  },
  {
   "cell_type": "code",
   "execution_count": 32,
   "id": "dfac3d88",
   "metadata": {},
   "outputs": [
    {
     "name": "stdout",
     "output_type": "stream",
     "text": [
      "11 µs ± 198 ns per loop (mean ± std. dev. of 7 runs, 100000 loops each)\n"
     ]
    }
   ],
   "source": [
    "# gradient of function w.r.t x \n",
    "f_grad_x = jax.jit(jax.jacfwd(f, 0))\n",
    "%timeit f_grad_x(x, A, b)"
   ]
  },
  {
   "cell_type": "code",
   "execution_count": 34,
   "id": "ee73bcc5",
   "metadata": {},
   "outputs": [
    {
     "name": "stdout",
     "output_type": "stream",
     "text": [
      "114 µs ± 2.74 µs per loop (mean ± std. dev. of 7 runs, 10000 loops each)\n"
     ]
    }
   ],
   "source": [
    "# gradient of function w.r.t A \n",
    "f_grad_A = jax.jit(jax.jacfwd(f, 1))\n",
    "%timeit f_grad_A(x, A, b)"
   ]
  },
  {
   "cell_type": "code",
   "execution_count": 33,
   "id": "047744c3",
   "metadata": {},
   "outputs": [
    {
     "name": "stdout",
     "output_type": "stream",
     "text": [
      "7.15 µs ± 146 ns per loop (mean ± std. dev. of 7 runs, 100000 loops each)\n"
     ]
    }
   ],
   "source": [
    "# gradient of function w.r.t b\n",
    "f_grad_b = jax.jit(jax.jacfwd(f, 2))\n",
    "%timeit f_grad_b(x, A, b)"
   ]
  },
  {
   "cell_type": "code",
   "execution_count": 26,
   "id": "afe6fae2",
   "metadata": {},
   "outputs": [],
   "source": [
    "# PyTorch\n",
    "import torch\n",
    "import functorch\n",
    "\n",
    "A = torch.tensor(A, dtype=torch.float32)\n",
    "b = torch.tensor(b, dtype=torch.float32)\n",
    "x = torch.tensor(x, dtype=torch.float32)\n",
    "\n",
    "f = lambda x, A, b: A@x + b"
   ]
  },
  {
   "cell_type": "code",
   "execution_count": 27,
   "id": "92fc3e1b",
   "metadata": {},
   "outputs": [
    {
     "name": "stdout",
     "output_type": "stream",
     "text": [
      "470 µs ± 15.4 µs per loop (mean ± std. dev. of 7 runs, 1000 loops each)\n"
     ]
    }
   ],
   "source": [
    "# gradient of function w.r.t x \n",
    "f_grad_x = functorch.jacfwd(f, 0)\n",
    "%timeit f_grad_x(x, A, b)"
   ]
  },
  {
   "cell_type": "code",
   "execution_count": 28,
   "id": "dfef8f97",
   "metadata": {},
   "outputs": [
    {
     "name": "stdout",
     "output_type": "stream",
     "text": [
      "516 µs ± 10.7 µs per loop (mean ± std. dev. of 7 runs, 1000 loops each)\n"
     ]
    }
   ],
   "source": [
    "# gradient of function w.r.t A \n",
    "f_grad_A = functorch.jacfwd(f, 1)\n",
    "%timeit f_grad_A(x, A, b)"
   ]
  },
  {
   "cell_type": "code",
   "execution_count": 29,
   "id": "907e9b81",
   "metadata": {},
   "outputs": [
    {
     "name": "stdout",
     "output_type": "stream",
     "text": [
      "382 µs ± 1.4 µs per loop (mean ± std. dev. of 7 runs, 1000 loops each)\n"
     ]
    }
   ],
   "source": [
    "# gradient of function w.r.t b\n",
    "f_grad_b = functorch.jacfwd(f, 2)\n",
    "%timeit f_grad_b(x, A, b)"
   ]
  },
  {
   "cell_type": "markdown",
   "id": "d14659ad",
   "metadata": {},
   "source": [
    "# Compare ODE solver speed"
   ]
  },
  {
   "cell_type": "code",
   "execution_count": 35,
   "id": "759719d5",
   "metadata": {},
   "outputs": [],
   "source": [
    "# method 1, JAX \n",
    "import jax \n",
    "import jax.numpy as jnp\n",
    "from jax.experimental.ode import odeint"
   ]
  },
  {
   "cell_type": "code",
   "execution_count": 37,
   "id": "b96c2f26",
   "metadata": {},
   "outputs": [],
   "source": [
    "# dimension of problem \n",
    "dim = 15\n",
    "\n",
    "# make a stable system (eigenvalues of A must be negative)\n",
    "A = np.random.randn(dim, dim)\n",
    "A = -(A@A.T)\n",
    "b = np.random.randn(dim)/10.\n",
    "params = (A, b)\n",
    "\n",
    "# random initial conditions \n",
    "x0 = np.random.randn(dim)\n",
    "\n",
    "# time horizon\n",
    "t_eval = np.linspace(0, 5, 20)\n",
    "\n",
    "# define linear differential equation\n",
    "def system(x, t, params):\n",
    "    A = params[0]\n",
    "    b = params[1]\n",
    "    return A@x + b"
   ]
  },
  {
   "cell_type": "code",
   "execution_count": 38,
   "id": "1af5eee3",
   "metadata": {},
   "outputs": [
    {
     "data": {
      "image/png": "[encoded data removed]",
      "text/plain": [
       "<Figure size 432x288 with 1 Axes>"
      ]
     },
     "metadata": {
      "needs_background": "light"
     },
     "output_type": "display_data"
    }
   ],
   "source": [
    "# solve ode \n",
    "y = odeint(system, x0, t_eval, params)\n",
    "plt.plot(t_eval, y)\n",
    "plt.show()"
   ]
  },
  {
   "cell_type": "code",
   "execution_count": 41,
   "id": "886eb926",
   "metadata": {},
   "outputs": [],
   "source": [
    "# define augmented system with forward sensitivity equations where\n",
    "# dZ/dt = Jx@Z + Jp\n",
    "Jx = jax.jit(jax.jacfwd(system, 0))\n",
    "Jp = jax.jit(jax.jacfwd(system, 2))\n",
    "\n",
    "def fwd_system(aug_x, t, params):\n",
    "    # unpack dependent variables\n",
    "    x = aug_x[0]\n",
    "    # Y = aug_x[1]\n",
    "    Z = aug_x[1:]\n",
    "    \n",
    "    # time derivative of state \n",
    "    dxdt = system(x, t, params)\n",
    "    \n",
    "    # system jacobian\n",
    "    Jx_i = Jx(x, t, params)\n",
    "    \n",
    "    # time derivative of grad(state, initial condition)\n",
    "    # dYdt = Jx_i@Y\n",
    "    \n",
    "    # time derivative of parameter sensitivity\n",
    "    dZdt = [Jx_i@Z_i + Jp_i for Z_i, Jp_i in zip(Z, Jp(x, t, params))]\n",
    "    \n",
    "    return (dxdt, *dZdt)"
   ]
  },
  {
   "cell_type": "code",
   "execution_count": 42,
   "id": "64edfbee",
   "metadata": {},
   "outputs": [
    {
     "name": "stdout",
     "output_type": "stream",
     "text": [
      "33.9 ms ± 166 µs per loop (mean ± std. dev. of 7 runs, 10 loops each)\n"
     ]
    }
   ],
   "source": [
    "# # solve ode \n",
    "Y0 = np.eye(dim)\n",
    "Z0 = [np.zeros([dim] + list(param.shape)) for param in params]\n",
    "\n",
    "xYZ0 = (x0, *Z0)\n",
    "jax_soln = odeint(fwd_system, xYZ0, t_eval, params)\n",
    "%timeit odeint(fwd_system, xYZ0, t_eval, params)"
   ]
  },
  {
   "cell_type": "code",
   "execution_count": 7,
   "id": "a29db641",
   "metadata": {},
   "outputs": [],
   "source": [
    "# Method 3: pytorch functools \n",
    "\n",
    "import functorch\n",
    "import torch\n",
    "import torch.nn as nn\n",
    "from torchdiffeq import odeint\n",
    "\n",
    "# set cpu or cuda \n",
    "device = 'cuda'\n",
    "\n",
    "# make a stable system (eigenvalues of A must be negative)\n",
    "A = torch.tensor(A, dtype=torch.float32, device=device)\n",
    "b = torch.tensor(b, dtype=torch.float32, device=device)\n",
    "params = (A,b)\n",
    "\n",
    "# random initial conditions \n",
    "x0 = torch.tensor(x0, dtype=torch.float32, device=device)\n",
    "\n",
    "# time horizon\n",
    "t_eval = torch.tensor(t_eval, dtype=torch.float32, device=device)\n",
    "\n",
    "# define linear differential equation\n",
    "def system(t, x, params):\n",
    "    A = params[0]\n",
    "    b = params[1]\n",
    "    return A@x + b\n",
    "\n",
    "# define augmented system with forward sensitivity equations where\n",
    "# dZ/dt = Jx@Z + Jp\n",
    "# Jx = torch.jit.trace(functorch.jacfwd(system, 1), (torch.tensor(0.), x0, params))\n",
    "# Jp = torch.jit.trace(functorch.jacfwd(system, 2), (torch.tensor(0.), x0, params))\n",
    "# system = torch.jit.trace(system, (torch.tensor(0.), x0, params))\n",
    "\n",
    "Jx = functorch.jacfwd(system, 1)\n",
    "Jp = functorch.jacfwd(system, 2)\n",
    "\n",
    "def aug_system(t, aug_x, params):\n",
    "    \n",
    "    # unpack augmented state\n",
    "    x = aug_x[0]\n",
    "    Z = aug_x[1:]\n",
    "    \n",
    "    # evaluate derivative of system (dx / dt)\n",
    "    dxdt = system(t, x, params)\n",
    "    \n",
    "    # d/dt dx/dp\n",
    "    Jx_i = Jx(t, x, params)\n",
    "    dZdt = [Jx_i@Z_i + Jp_i for Z_i, Jp_i in zip(Z, Jp(t, x, params))]\n",
    "    \n",
    "    return (dxdt, *dZdt)"
   ]
  },
  {
   "cell_type": "code",
   "execution_count": 8,
   "id": "5745751c",
   "metadata": {},
   "outputs": [
    {
     "name": "stdout",
     "output_type": "stream",
     "text": [
      "2.38 s ± 85 ms per loop (mean ± std. dev. of 7 runs, 1 loop each)\n"
     ]
    }
   ],
   "source": [
    "# initial conditions\n",
    "Z0 = [torch.zeros([dim] + list(param.shape), dtype=torch.float32, device=device) for param in params]\n",
    "xZ0 = (x0, *Z0)\n",
    "\n",
    "# solve ODE\n",
    "torch_soln = odeint(lambda t, x: aug_system(t, x, params), xZ0, t_eval)\n",
    "%timeit odeint(lambda t, x: aug_system(t, x, params), xZ0, t_eval)"
   ]
  },
  {
   "cell_type": "code",
   "execution_count": 9,
   "id": "dafa23fc",
   "metadata": {},
   "outputs": [],
   "source": [
    "# plt.scatter(torch_soln[1].detach().to(\"cpu\").numpy(), np.array(jax_soln[1]))\n",
    "# plt.show()"
   ]
  },
  {
   "cell_type": "code",
   "execution_count": 10,
   "id": "6f297616",
   "metadata": {},
   "outputs": [],
   "source": [
    "from torchode import solve_ivp\n",
    "import torchode as to"
   ]
  },
  {
   "cell_type": "code",
   "execution_count": 11,
   "id": "13c1a8fe",
   "metadata": {},
   "outputs": [],
   "source": [
    "# define linear differential equation\n",
    "def system(t, x, params):\n",
    "    A = params[0]\n",
    "    b = params[1]\n",
    "    return A@x + b\n",
    "\n",
    "# define augmented system with forward sensitivity equations where\n",
    "# dZ/dt = Jx@Z + Jp\n",
    "# Jx = torch.jit.trace(functorch.jacfwd(system, 1), (torch.tensor(0.), x0, params))\n",
    "# Jp = torch.jit.trace(functorch.jacfwd(system, 2), (torch.tensor(0.), x0, params))\n",
    "# system = torch.jit.trace(system, (torch.tensor(0.), x0, params))\n",
    "\n",
    "Jx = functorch.jacfwd(system, 1)\n",
    "Jp = functorch.jacfwd(system, 2)\n",
    "\n",
    "def aug_system(t, aug_x, params):\n",
    "    \n",
    "    # unpack augmented state\n",
    "    x = aug_x[:, 0]\n",
    "    Z = aug_x[:,1:]\n",
    "    \n",
    "    # evaluate derivative of system (dx / dt)\n",
    "    dx = system(t, x, params)\n",
    "    \n",
    "    # compute sensitivity matrices d/dt dx/dp\n",
    "    Jx_t = Jx(t, x, params)\n",
    "    Jp_t = torch.concatenate([Jp_i.reshape(Jp_i.shape[0], -1) for Jp_i in Jp(t, x, params)], -1)\n",
    "    dZ = Jx_t@Z + Jp_t\n",
    "    \n",
    "    return torch.concatenate((torch.unsqueeze(dx, 1), dZ), -1)"
   ]
  },
  {
   "cell_type": "code",
   "execution_count": 12,
   "id": "7fffa622",
   "metadata": {},
   "outputs": [],
   "source": [
    "# initial conditions\n",
    "Z0 = [torch.zeros([dim] + list(param.shape), dtype=torch.float32, device=device) for param in params]\n",
    "Z0  = torch.concatenate([Z_i.reshape(Z_i.shape[0], -1) for Z_i in Z0], -1)\n",
    "xZ0 = torch.concatenate((torch.unsqueeze(x0, 1), Z0), -1)"
   ]
  },
  {
   "cell_type": "code",
   "execution_count": 13,
   "id": "5d65e388",
   "metadata": {},
   "outputs": [],
   "source": [
    "sol = solve_ivp(aug_system, xZ0, t_eval, args=params)"
   ]
  },
  {
   "cell_type": "code",
   "execution_count": 14,
   "id": "473c0f4e",
   "metadata": {},
   "outputs": [
    {
     "name": "stdout",
     "output_type": "stream",
     "text": [
      "4.02 s ± 12.8 ms per loop (mean ± std. dev. of 7 runs, 1 loop each)\n"
     ]
    }
   ],
   "source": [
    "%timeit solve_ivp(aug_system, xZ0, t_eval, args=params)"
   ]
  }
 ],
 "metadata": {
  "kernelspec": {
   "display_name": "Python 3 (ipykernel)",
   "language": "python",
   "name": "python3"
  },
  "language_info": {
   "codemirror_mode": {
    "name": "ipython",
    "version": 3
   },
   "file_extension": ".py",
   "mimetype": "text/x-python",
   "name": "python",
   "nbconvert_exporter": "python",
   "pygments_lexer": "ipython3",
   "version": "3.9.7"
  }
 },
 "nbformat": 4,
 "nbformat_minor": 5
}
