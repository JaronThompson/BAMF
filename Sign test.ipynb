{
 "cells": [
  {
   "cell_type": "code",
   "execution_count": 1,
   "id": "1dbc7480",
   "metadata": {},
   "outputs": [
    {
     "name": "stderr",
     "output_type": "stream",
     "text": [
      "<frozen importlib._bootstrap>:228: RuntimeWarning: scipy._lib.messagestream.MessageStream size changed, may indicate binary incompatibility. Expected 56 from C header, got 64 from PyObject\n"
     ]
    }
   ],
   "source": [
    "from scipy.stats import binom\n",
    "import pandas as pd \n",
    "import numpy as np\n",
    "\n",
    "import matplotlib.pyplot as plt"
   ]
  },
  {
   "cell_type": "markdown",
   "id": "c0d04565",
   "metadata": {},
   "source": [
    "# Sign test \n",
    "\n",
    "- A non-parametric test to compare the medians of two paired samples\n",
    "- Makes no assumption about the underlying distribution of the data\n",
    "- The null hypothesis is that the two sets of paired samples have the same median\n",
    "- Given two sets of paired samples, compute the test statistic: the number of pairs where the value of a sample in the first set is greater than the sample in the second set \n",
    "- The p-value of the test statistic is the sum of probabilities corresponding to all possible test statistics that are at least as extreme as the test statistic. \n",
    "\n",
    "For example, given two sets each with 10 paired samples and a test statistic of 9, the p-value is the probability of observing that at least 9 out of the 10 samples in the first set were greater than the corresponding samples in the second set assuming a 50% chance that a sample in the first set is greater than the corresponding sample in the second set. The p-value is therefore the sum of the probability of observing 9 out of 10 instances where the sample in set 1 was greater than the sample in set 2 plus the probability of observing 10 out of 10 instances where the sample in set 1 was greater than the sample in set 2, assuming a 50/50 chance that a sample in set 1 will be greater than a sample in set 2. The binomial distribution can be used to compute these probabilities. \n",
    "\n",
    "While the Mann Whitney U test could also be used, an assumption of the Mann Whitney U test is that the distribution of the differences between the two samples is symmetric around zero, which is not the case here. "
   ]
  },
  {
   "cell_type": "markdown",
   "id": "9a3bfcc8",
   "metadata": {},
   "source": [
    "## Compare C diff results "
   ]
  },
  {
   "cell_type": "code",
   "execution_count": 2,
   "id": "d1089803",
   "metadata": {},
   "outputs": [],
   "source": [
    "crnn_kf = pd.read_csv(\"kfold/CRNN_kfold_cdiff.csv\")\n",
    "glv_kf  = pd.read_csv(\"kfold/gLV_kfold_cdiff.csv\")"
   ]
  },
  {
   "cell_type": "code",
   "execution_count": 3,
   "id": "3bee6b7c",
   "metadata": {},
   "outputs": [
    {
     "data": {
      "text/plain": [
       "5.1094441044206204e-05"
      ]
     },
     "execution_count": 3,
     "metadata": {},
     "output_type": "execute_result"
    }
   ],
   "source": [
    "# ignore values known to be zero \n",
    "inds_pos = glv_kf['True'].values > 0\n",
    "\n",
    "# error of null method\n",
    "y_err = (glv_kf['True'].values[inds_pos] - glv_kf['Pred'].values[inds_pos])**2\n",
    "# error of candidate method\n",
    "y_err_c = (crnn_kf['True'].values[inds_pos] - crnn_kf['Pred'].values[inds_pos])**2\n",
    "\n",
    "# calculate differences between the paired samples\n",
    "differences = [e1-e2 for (e1, e2) in zip(y_err, y_err_c)]\n",
    "\n",
    "# calculate test statistic\n",
    "test_statistic = sum(1 for d in differences if d > 0)\n",
    "\n",
    "# calculate p-value from binomial distribution \n",
    "p_value = binom.sf(test_statistic - 1, len(differences), 0.5)\n",
    "\n",
    "p_value"
   ]
  },
  {
   "cell_type": "code",
   "execution_count": 4,
   "id": "73f01355",
   "metadata": {},
   "outputs": [
    {
     "data": {
      "text/plain": [
       "0.0027548884323871305"
      ]
     },
     "execution_count": 4,
     "metadata": {},
     "output_type": "execute_result"
    }
   ],
   "source": [
    "np.nanmedian(y_err)"
   ]
  },
  {
   "cell_type": "code",
   "execution_count": 5,
   "id": "41f90f07",
   "metadata": {},
   "outputs": [
    {
     "data": {
      "text/plain": [
       "0.001640642465120929"
      ]
     },
     "execution_count": 5,
     "metadata": {},
     "output_type": "execute_result"
    }
   ],
   "source": [
    "np.nanmedian(y_err_c)"
   ]
  },
  {
   "cell_type": "code",
   "execution_count": 6,
   "id": "66c6d841",
   "metadata": {},
   "outputs": [
    {
     "data": {
      "image/png": "[encoded data removed]",
      "text/plain": [
       "<Figure size 640x480 with 1 Axes>"
      ]
     },
     "metadata": {},
     "output_type": "display_data"
    }
   ],
   "source": [
    "bins = np.linspace(0, .3, 30)\n",
    "plt.hist(y_err, bins=bins, alpha=.5, label='gLV')\n",
    "plt.hist(y_err_c, bins=bins, alpha=.5, label='CRNN')\n",
    "plt.yscale(\"log\")\n",
    "plt.legend()\n",
    "plt.show()"
   ]
  },
  {
   "cell_type": "markdown",
   "id": "4d6eb002",
   "metadata": {},
   "source": [
    "## Compare fiber results "
   ]
  },
  {
   "cell_type": "code",
   "execution_count": 7,
   "id": "d087dd88",
   "metadata": {},
   "outputs": [],
   "source": [
    "crnn_kf = pd.read_csv(\"kfold/CRNN_kfold_fiber.csv\")\n",
    "glv_kf  = pd.read_csv(\"kfold/gLV_kfold_fiber.csv\")"
   ]
  },
  {
   "cell_type": "code",
   "execution_count": 8,
   "id": "09de9192",
   "metadata": {},
   "outputs": [
    {
     "data": {
      "text/plain": [
       "3.3202097416583126e-05"
      ]
     },
     "execution_count": 8,
     "metadata": {},
     "output_type": "execute_result"
    }
   ],
   "source": [
    "# ignore values known to be zero \n",
    "inds_pos = glv_kf['True'].values > 0\n",
    "\n",
    "# error of null method\n",
    "y_err = (glv_kf['True'].values[inds_pos] - glv_kf['Pred'].values[inds_pos])**2\n",
    "# error of candidate method\n",
    "y_err_c = (crnn_kf['True'].values[inds_pos] - crnn_kf['Pred'].values[inds_pos])**2\n",
    "\n",
    "# calculate differences between the paired samples\n",
    "differences = [e1-e2 for (e1, e2) in zip(y_err, y_err_c)]\n",
    "\n",
    "# calculate test statistic\n",
    "test_statistic = sum(1 for d in differences if d > 0)\n",
    "\n",
    "# calculate p-value from binomial distribution \n",
    "p_value = binom.sf(test_statistic - 1, len(differences), 0.5)\n",
    "\n",
    "p_value"
   ]
  },
  {
   "cell_type": "code",
   "execution_count": 9,
   "id": "be192de3",
   "metadata": {},
   "outputs": [
    {
     "data": {
      "text/plain": [
       "0.0009400012179328149"
      ]
     },
     "execution_count": 9,
     "metadata": {},
     "output_type": "execute_result"
    }
   ],
   "source": [
    "np.nanmedian(y_err)"
   ]
  },
  {
   "cell_type": "code",
   "execution_count": 10,
   "id": "d5eec4fa",
   "metadata": {},
   "outputs": [
    {
     "data": {
      "text/plain": [
       "0.0006628588139070534"
      ]
     },
     "execution_count": 10,
     "metadata": {},
     "output_type": "execute_result"
    }
   ],
   "source": [
    "np.nanmedian(y_err_c)"
   ]
  },
  {
   "cell_type": "code",
   "execution_count": 11,
   "id": "0773d5ee",
   "metadata": {},
   "outputs": [
    {
     "data": {
      "image/png": "[encoded data removed]",
      "text/plain": [
       "<Figure size 640x480 with 1 Axes>"
      ]
     },
     "metadata": {},
     "output_type": "display_data"
    }
   ],
   "source": [
    "bins = np.linspace(0, .3, 30)\n",
    "plt.hist(y_err, bins=bins, alpha=.5, label='gLV')\n",
    "plt.hist(y_err_c, bins=bins, alpha=.5, label='CRNN')\n",
    "plt.yscale(\"log\")\n",
    "plt.legend()\n",
    "plt.show()"
   ]
  }
 ],
 "metadata": {
  "kernelspec": {
   "display_name": "Python 3 (ipykernel)",
   "language": "python",
   "name": "python3"
  },
  "language_info": {
   "codemirror_mode": {
    "name": "ipython",
    "version": 3
   },
   "file_extension": ".py",
   "mimetype": "text/x-python",
   "name": "python",
   "nbconvert_exporter": "python",
   "pygments_lexer": "ipython3",
   "version": "3.9.13"
  }
 },
 "nbformat": 4,
 "nbformat_minor": 5
}
