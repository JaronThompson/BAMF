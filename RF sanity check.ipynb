{
 "cells": [
  {
   "cell_type": "code",
   "execution_count": 16,
   "id": "594cca2b",
   "metadata": {},
   "outputs": [],
   "source": [
    "import pandas as pd\n",
    "import numpy as np\n",
    "from sklearn.ensemble import RandomForestRegressor\n",
    "import matplotlib.pyplot as plt"
   ]
  },
  {
   "cell_type": "code",
   "execution_count": 3,
   "id": "81e9f09e",
   "metadata": {},
   "outputs": [],
   "source": [
    "t0_data = pd.read_csv(\"DTL0/REU04_table_t0_20220811.csv\")\n",
    "tf_data = pd.read_csv(\"DTL0/REU04_table_tf_20220811.csv\")\n",
    "\n",
    "exp_info = ['Treatments', 'Rep', 'Time', 'OD']\n",
    "inputs = ['Inulin', 'Starch', 'Pectin', 'ArGal', 'Gum', 'AmAc', 'pH']\n",
    "species = ['BAabs', 'BPabs', 'BTabs', 'BUabs', 'PCabs', 'PJabs',\n",
    "       'ACabs', 'CGabs', 'CHabs', 'FPabs', 'ERabs', 'BHabs', 'RIabs',\n",
    "       'CSabs', 'EHabs']\n",
    "species = list(np.array(species)[np.array([False,  True,  True, False, False, False, False, False, False,\n",
    "        True,  True,  True, False, False, False])])\n",
    "\n",
    "# data with replicates\n",
    "reps_data = pd.concat((t0_data[exp_info+inputs+species], tf_data[exp_info+inputs+species]))\n",
    "rep1_data = reps_data.iloc[reps_data['Rep'].values==1].sort_values(by=['Treatments', 'Time'])\n",
    "rep2_data = reps_data.iloc[reps_data['Rep'].values==2].sort_values(by=['Treatments', 'Time'])\n",
    "rep3_data = reps_data.iloc[reps_data['Rep'].values==3].sort_values(by=['Treatments', 'Time'])\n",
    "\n",
    "# average replicates\n",
    "avg_data_4 = rep1_data.copy().drop(['Rep'], axis=1)\n",
    "avg_data_4[species] = (avg_data_4[species].values + rep2_data[species].values + rep3_data[species].values)/3."
   ]
  },
  {
   "cell_type": "code",
   "execution_count": 10,
   "id": "16edfbbe",
   "metadata": {},
   "outputs": [],
   "source": [
    "t0_inds = np.in1d(avg_data_4.Time.values, 0.) \n",
    "X = avg_data_4.iloc[t0_inds][species].values\n",
    "Y = avg_data_4.iloc[~t0_inds][species].values"
   ]
  },
  {
   "cell_type": "code",
   "execution_count": 12,
   "id": "c3316d05",
   "metadata": {},
   "outputs": [
    {
     "data": {
      "text/plain": [
       "RandomForestRegressor()"
      ]
     },
     "execution_count": 12,
     "metadata": {},
     "output_type": "execute_result"
    }
   ],
   "source": [
    "rf = RandomForestRegressor()\n",
    "rf.fit(X,Y)"
   ]
  },
  {
   "cell_type": "code",
   "execution_count": 13,
   "id": "a2de45e5",
   "metadata": {},
   "outputs": [],
   "source": [
    "Ypred = rf.predict(X)"
   ]
  },
  {
   "cell_type": "code",
   "execution_count": 17,
   "id": "eba82acd",
   "metadata": {},
   "outputs": [
    {
     "data": {
      "text/plain": [
       "<matplotlib.collections.PathCollection at 0x7f7f67d40970>"
      ]
     },
     "execution_count": 17,
     "metadata": {},
     "output_type": "execute_result"
    },
    {
     "data": {
      "image/png": "[encoded data removed]",
      "text/plain": [
       "<Figure size 432x288 with 1 Axes>"
      ]
     },
     "metadata": {
      "needs_background": "light"
     },
     "output_type": "display_data"
    }
   ],
   "source": [
    "plt.scatter(Ypred.flatten(), Y.flatten())"
   ]
  }
 ],
 "metadata": {
  "kernelspec": {
   "display_name": "Python 3 (ipykernel)",
   "language": "python",
   "name": "python3"
  },
  "language_info": {
   "codemirror_mode": {
    "name": "ipython",
    "version": 3
   },
   "file_extension": ".py",
   "mimetype": "text/x-python",
   "name": "python",
   "nbconvert_exporter": "python",
   "pygments_lexer": "ipython3",
   "version": "3.9.7"
  }
 },
 "nbformat": 4,
 "nbformat_minor": 5
}
