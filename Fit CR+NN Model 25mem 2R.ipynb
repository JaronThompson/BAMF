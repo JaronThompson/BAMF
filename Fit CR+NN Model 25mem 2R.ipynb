{
 "cells": [
  {
   "cell_type": "code",
   "execution_count": 1,
   "metadata": {},
   "outputs": [
    {
     "name": "stderr",
     "output_type": "stream",
     "text": [
      "<frozen importlib._bootstrap>:228: RuntimeWarning: scipy._lib.messagestream.MessageStream size changed, may indicate binary incompatibility. Expected 56 from C header, got 64 from PyObject\n"
     ]
    }
   ],
   "source": [
    "import numpy as np\n",
    "import itertools\n",
    "import pandas as pd\n",
    "import matplotlib.pyplot as plt\n",
    "import seaborn as sns\n",
    "import scipy as sp\n",
    "from scipy.stats import linregress, spearmanr\n",
    "\n",
    "from bamf.bamfCR import *\n",
    "\n",
    "import time\n",
    "\n",
    "# set plot parameters\n",
    "params = {'legend.fontsize': 18,\n",
    "          'figure.figsize': (8, 7),\n",
    "          'axes.labelsize': 24,\n",
    "          'axes.titlesize':24,\n",
    "          'axes.linewidth':3,\n",
    "          'xtick.labelsize':20,\n",
    "          'ytick.labelsize':20,\n",
    "          'xtick.labelsize':20,\n",
    "          'ytick.labelsize':20}\n",
    "plt.rcParams.update(params)\n",
    "plt.style.use('seaborn-colorblind')\n",
    "plt.rcParams['pdf.fonttype'] = 42\n",
    "\n",
    "np.random.seed(123)"
   ]
  },
  {
   "cell_type": "markdown",
   "metadata": {},
   "source": [
    "# Import data"
   ]
  },
  {
   "cell_type": "code",
   "execution_count": 2,
   "metadata": {},
   "outputs": [
    {
     "data": {
      "text/html": [
       "<div>\n",
       "<style scoped>\n",
       "    .dataframe tbody tr th:only-of-type {\n",
       "        vertical-align: middle;\n",
       "    }\n",
       "\n",
       "    .dataframe tbody tr th {\n",
       "        vertical-align: top;\n",
       "    }\n",
       "\n",
       "    .dataframe thead th {\n",
       "        text-align: right;\n",
       "    }\n",
       "</style>\n",
       "<table border=\"1\" class=\"dataframe\">\n",
       "  <thead>\n",
       "    <tr style=\"text-align: right;\">\n",
       "      <th></th>\n",
       "      <th>Treatments</th>\n",
       "      <th>Time</th>\n",
       "      <th>PC_OD</th>\n",
       "      <th>PJ_OD</th>\n",
       "      <th>BV_OD</th>\n",
       "      <th>BF_OD</th>\n",
       "      <th>BO_OD</th>\n",
       "      <th>BT_OD</th>\n",
       "      <th>BC_OD</th>\n",
       "      <th>BY_OD</th>\n",
       "      <th>...</th>\n",
       "      <th>CG_OD</th>\n",
       "      <th>ER_OD</th>\n",
       "      <th>RI_OD</th>\n",
       "      <th>CC_OD</th>\n",
       "      <th>DL_OD</th>\n",
       "      <th>DF_OD</th>\n",
       "      <th>Butyrate</th>\n",
       "      <th>Acetate</th>\n",
       "      <th>Lactate</th>\n",
       "      <th>Succinate</th>\n",
       "    </tr>\n",
       "  </thead>\n",
       "  <tbody>\n",
       "    <tr>\n",
       "      <th>0</th>\n",
       "      <td>PC-BV-BT-BC-BP-EL-FP-CH-AC-BH-CG-ER-RI-DF</td>\n",
       "      <td>0.0</td>\n",
       "      <td>0.000471</td>\n",
       "      <td>0.0</td>\n",
       "      <td>0.000471</td>\n",
       "      <td>0.000000</td>\n",
       "      <td>0.000000</td>\n",
       "      <td>0.000471</td>\n",
       "      <td>0.000471</td>\n",
       "      <td>0.0</td>\n",
       "      <td>...</td>\n",
       "      <td>0.000471</td>\n",
       "      <td>0.000471</td>\n",
       "      <td>0.000471</td>\n",
       "      <td>0.0</td>\n",
       "      <td>0.0</td>\n",
       "      <td>0.000471</td>\n",
       "      <td>0.000000</td>\n",
       "      <td>0.000000</td>\n",
       "      <td>28.000000</td>\n",
       "      <td>0.000000</td>\n",
       "    </tr>\n",
       "    <tr>\n",
       "      <th>1</th>\n",
       "      <td>PC-BV-BT-BC-BP-EL-FP-CH-AC-BH-CG-ER-RI-DF</td>\n",
       "      <td>16.0</td>\n",
       "      <td>0.465116</td>\n",
       "      <td>0.0</td>\n",
       "      <td>0.029207</td>\n",
       "      <td>0.000000</td>\n",
       "      <td>0.000000</td>\n",
       "      <td>0.249717</td>\n",
       "      <td>0.500651</td>\n",
       "      <td>0.0</td>\n",
       "      <td>...</td>\n",
       "      <td>0.024339</td>\n",
       "      <td>0.327601</td>\n",
       "      <td>0.001460</td>\n",
       "      <td>0.0</td>\n",
       "      <td>0.0</td>\n",
       "      <td>0.392830</td>\n",
       "      <td>23.092697</td>\n",
       "      <td>47.849302</td>\n",
       "      <td>18.910852</td>\n",
       "      <td>26.141885</td>\n",
       "    </tr>\n",
       "    <tr>\n",
       "      <th>2</th>\n",
       "      <td>PC-BV-BT-BC-BP-EL-FP-CH-AC-BH-CG-ER-RI-DF</td>\n",
       "      <td>32.0</td>\n",
       "      <td>0.104523</td>\n",
       "      <td>0.0</td>\n",
       "      <td>0.027928</td>\n",
       "      <td>0.000000</td>\n",
       "      <td>0.000000</td>\n",
       "      <td>0.220107</td>\n",
       "      <td>0.380210</td>\n",
       "      <td>0.0</td>\n",
       "      <td>...</td>\n",
       "      <td>0.020739</td>\n",
       "      <td>0.293384</td>\n",
       "      <td>0.000830</td>\n",
       "      <td>0.0</td>\n",
       "      <td>0.0</td>\n",
       "      <td>0.280111</td>\n",
       "      <td>23.996267</td>\n",
       "      <td>38.915218</td>\n",
       "      <td>17.977137</td>\n",
       "      <td>26.884748</td>\n",
       "    </tr>\n",
       "    <tr>\n",
       "      <th>3</th>\n",
       "      <td>PC-BV-BT-BC-BP-EL-FP-CH-AC-BH-CG-ER-RI-DF</td>\n",
       "      <td>48.0</td>\n",
       "      <td>0.124852</td>\n",
       "      <td>0.0</td>\n",
       "      <td>0.012194</td>\n",
       "      <td>0.000000</td>\n",
       "      <td>0.000000</td>\n",
       "      <td>0.268268</td>\n",
       "      <td>0.333970</td>\n",
       "      <td>0.0</td>\n",
       "      <td>...</td>\n",
       "      <td>0.023660</td>\n",
       "      <td>0.188188</td>\n",
       "      <td>0.002366</td>\n",
       "      <td>0.0</td>\n",
       "      <td>0.0</td>\n",
       "      <td>0.224952</td>\n",
       "      <td>24.839219</td>\n",
       "      <td>34.325914</td>\n",
       "      <td>19.406971</td>\n",
       "      <td>31.628061</td>\n",
       "    </tr>\n",
       "    <tr>\n",
       "      <th>4</th>\n",
       "      <td>BV-BF-BO-BT-BU-DP-BL-BA-BP-EL-FP-CH-AC-BH-CG-E...</td>\n",
       "      <td>0.0</td>\n",
       "      <td>0.000000</td>\n",
       "      <td>0.0</td>\n",
       "      <td>0.000388</td>\n",
       "      <td>0.000388</td>\n",
       "      <td>0.000388</td>\n",
       "      <td>0.000388</td>\n",
       "      <td>0.000000</td>\n",
       "      <td>0.0</td>\n",
       "      <td>...</td>\n",
       "      <td>0.000388</td>\n",
       "      <td>0.000388</td>\n",
       "      <td>0.000388</td>\n",
       "      <td>0.0</td>\n",
       "      <td>0.0</td>\n",
       "      <td>0.000000</td>\n",
       "      <td>0.000000</td>\n",
       "      <td>0.000000</td>\n",
       "      <td>28.000000</td>\n",
       "      <td>0.000000</td>\n",
       "    </tr>\n",
       "  </tbody>\n",
       "</table>\n",
       "<p>5 rows × 31 columns</p>\n",
       "</div>"
      ],
      "text/plain": [
       "                                          Treatments  Time     PC_OD  PJ_OD  \\\n",
       "0          PC-BV-BT-BC-BP-EL-FP-CH-AC-BH-CG-ER-RI-DF   0.0  0.000471    0.0   \n",
       "1          PC-BV-BT-BC-BP-EL-FP-CH-AC-BH-CG-ER-RI-DF  16.0  0.465116    0.0   \n",
       "2          PC-BV-BT-BC-BP-EL-FP-CH-AC-BH-CG-ER-RI-DF  32.0  0.104523    0.0   \n",
       "3          PC-BV-BT-BC-BP-EL-FP-CH-AC-BH-CG-ER-RI-DF  48.0  0.124852    0.0   \n",
       "4  BV-BF-BO-BT-BU-DP-BL-BA-BP-EL-FP-CH-AC-BH-CG-E...   0.0  0.000000    0.0   \n",
       "\n",
       "      BV_OD     BF_OD     BO_OD     BT_OD     BC_OD  BY_OD  ...     CG_OD  \\\n",
       "0  0.000471  0.000000  0.000000  0.000471  0.000471    0.0  ...  0.000471   \n",
       "1  0.029207  0.000000  0.000000  0.249717  0.500651    0.0  ...  0.024339   \n",
       "2  0.027928  0.000000  0.000000  0.220107  0.380210    0.0  ...  0.020739   \n",
       "3  0.012194  0.000000  0.000000  0.268268  0.333970    0.0  ...  0.023660   \n",
       "4  0.000388  0.000388  0.000388  0.000388  0.000000    0.0  ...  0.000388   \n",
       "\n",
       "      ER_OD     RI_OD  CC_OD  DL_OD     DF_OD   Butyrate    Acetate  \\\n",
       "0  0.000471  0.000471    0.0    0.0  0.000471   0.000000   0.000000   \n",
       "1  0.327601  0.001460    0.0    0.0  0.392830  23.092697  47.849302   \n",
       "2  0.293384  0.000830    0.0    0.0  0.280111  23.996267  38.915218   \n",
       "3  0.188188  0.002366    0.0    0.0  0.224952  24.839219  34.325914   \n",
       "4  0.000388  0.000388    0.0    0.0  0.000000   0.000000   0.000000   \n",
       "\n",
       "     Lactate  Succinate  \n",
       "0  28.000000   0.000000  \n",
       "1  18.910852  26.141885  \n",
       "2  17.977137  26.884748  \n",
       "3  19.406971  31.628061  \n",
       "4  28.000000   0.000000  \n",
       "\n",
       "[5 rows x 31 columns]"
      ]
     },
     "execution_count": 2,
     "metadata": {},
     "output_type": "execute_result"
    }
   ],
   "source": [
    "# used later for model validation\n",
    "gLV_data = pd.read_csv(\"gLV_data/2021_02_19_MultifunctionalDynamicData.csv\").rename(columns={\"Experiments\":\"Treatments\"})\n",
    "gLV_data['Time'] = np.array(gLV_data['Time'].values, float) \n",
    "gLV_data.head()"
   ]
  },
  {
   "cell_type": "code",
   "execution_count": 3,
   "metadata": {},
   "outputs": [
    {
     "data": {
      "text/plain": [
       "array(['PC_OD', 'PJ_OD', 'BV_OD', 'BF_OD', 'BO_OD', 'BT_OD', 'BC_OD',\n",
       "       'BY_OD', 'BU_OD', 'DP_OD', 'BL_OD', 'BA_OD', 'BP_OD', 'CA_OD',\n",
       "       'EL_OD', 'FP_OD', 'CH_OD', 'AC_OD', 'BH_OD', 'CG_OD', 'ER_OD',\n",
       "       'RI_OD', 'CC_OD', 'DL_OD', 'DF_OD'], dtype=object)"
      ]
     },
     "execution_count": 3,
     "metadata": {},
     "output_type": "execute_result"
    }
   ],
   "source": [
    "# rearrange species in order of most to least diauxic lookin \n",
    "species = gLV_data.columns.values[2:-4]\n",
    "species"
   ]
  },
  {
   "cell_type": "markdown",
   "metadata": {},
   "source": [
    "# Set parameter prior based on monoculture growth curves"
   ]
  },
  {
   "cell_type": "code",
   "execution_count": 4,
   "metadata": {},
   "outputs": [],
   "source": [
    "# global parameters \n",
    "n_s = len(species)\n",
    "n_r = 2"
   ]
  },
  {
   "cell_type": "code",
   "execution_count": 5,
   "metadata": {
    "scrolled": true
   },
   "outputs": [
    {
     "data": {
      "text/plain": [
       "array([[-0.30353081, -0.67704109],\n",
       "       [-0.71386067, -0.63821134],\n",
       "       [-0.77314855, -0.77173677],\n",
       "       [-0.44868523, -0.70628595],\n",
       "       [-0.28053103, -0.36902388],\n",
       "       [-0.57689354, -0.90789506],\n",
       "       [-0.0192358 , -0.56629883],\n",
       "       [-0.31517026, -0.56913724],\n",
       "       [-0.5190681 , -0.5063149 ],\n",
       "       [-0.60788248, -0.57416971],\n",
       "       [-0.65682198, -0.68773878],\n",
       "       [-0.27095029, -0.57364869],\n",
       "       [-0.56142776, -0.10661084],\n",
       "       [-0.9403221 , -0.05583998],\n",
       "       [-0.60195574, -0.49816332],\n",
       "       [-0.26200459, -0.37604705],\n",
       "       [-0.81750827, -0.8843816 ],\n",
       "       [-0.82454824, -0.68271452],\n",
       "       [-0.46844863, -0.58517379],\n",
       "       [-0.46817241, -0.13369084],\n",
       "       [-0.36559904, -0.74954463],\n",
       "       [-0.15056821, -0.51696574],\n",
       "       [-0.27554468, -0.01444021],\n",
       "       [-0.38897649, -0.48051488],\n",
       "       [-0.27755662, -0.38710547]])"
      ]
     },
     "execution_count": 5,
     "metadata": {},
     "output_type": "execute_result"
    }
   ],
   "source": [
    "# maximum consumption rate parameters\n",
    "# C = np.zeros([n_r, n_s]) \n",
    "# C[1:,:] = -1.\n",
    "# C[2:,:] = -5.\n",
    "C = np.random.uniform(-1., 0., [n_r, n_s])\n",
    "# C[0] = 0.\n",
    "C.T"
   ]
  },
  {
   "cell_type": "code",
   "execution_count": 6,
   "metadata": {},
   "outputs": [
    {
     "data": {
      "text/plain": [
       "array([[-4.51748534, -2.62227248],\n",
       "       [-1.6946368 , -2.77285923],\n",
       "       [-2.58775949, -4.36416142],\n",
       "       [-2.81972797, -4.38771794],\n",
       "       [-3.62894466, -2.21788188],\n",
       "       [-3.78351684, -3.72493429],\n",
       "       [-3.33191116, -2.23211882],\n",
       "       [-2.27479694, -2.782467  ],\n",
       "       [-1.49817263, -3.4441977 ],\n",
       "       [-2.95831065, -1.29947004],\n",
       "       [-2.32274487, -1.63332001],\n",
       "       [-2.65625379, -3.57040973],\n",
       "       [-2.50038599, -4.82563414],\n",
       "       [-2.3012438 , -3.78092771],\n",
       "       [-1.63063025, -3.40725727],\n",
       "       [-4.66722005, -2.18016468],\n",
       "       [-1.94526863, -1.01856607],\n",
       "       [-4.0253345 , -3.57634054],\n",
       "       [-4.22310816, -1.94980874],\n",
       "       [-2.71017217, -2.62729233],\n",
       "       [-4.61714993, -2.23319281],\n",
       "       [-1.45869269, -4.39549019],\n",
       "       [-2.49100411, -3.40449483],\n",
       "       [-2.10633457, -4.03657641],\n",
       "       [-4.93548317, -3.62617594]])"
      ]
     },
     "execution_count": 6,
     "metadata": {},
     "output_type": "execute_result"
    }
   ],
   "source": [
    "# production rate parameters\n",
    "# P = -5.*np.ones([n_r, n_s])\n",
    "# P[1:,:] = -3.\n",
    "P = np.random.uniform(-5., -1., [n_r, n_s])\n",
    "# P[0] = -5.\n",
    "\n",
    "# carrying capacity of resources \n",
    "K = np.ones(n_r)\n",
    "\n",
    "P.T"
   ]
  },
  {
   "cell_type": "markdown",
   "metadata": {},
   "source": [
    "# Define function to make predictions on test data"
   ]
  },
  {
   "cell_type": "code",
   "execution_count": 7,
   "metadata": {},
   "outputs": [],
   "source": [
    "# Define function to make predictions on test data\n",
    "\n",
    "def plot(model, df_test):\n",
    "    all_treatments = df_test.Treatments.values\n",
    "    unique_treatments = np.unique(all_treatments)\n",
    "    numspecies = len(species)\n",
    "    \n",
    "    # save true values and predictions\n",
    "    true = []\n",
    "    pred = []\n",
    "    stdv = []\n",
    "    spcs = []\n",
    "\n",
    "    # pull a random community trajectory\n",
    "    for treatment in unique_treatments:\n",
    "        comm_inds = np.in1d(df_test['Treatments'].values, treatment)\n",
    "        comm_data = df_test.iloc[comm_inds].copy()\n",
    "\n",
    "        # make sure comm_data is sorted in chronological order\n",
    "        comm_data.sort_values(by='Time', ascending=True, inplace=True)\n",
    "        tspan = comm_data.Time.values\n",
    "\n",
    "        # pull just the community data\n",
    "        output_true = comm_data[species].values\n",
    "\n",
    "        # run model using parameters\n",
    "        x_test = np.copy(output_true[0, :])\n",
    "        \n",
    "        # predict end-point measured values\n",
    "        output, output_stdv, _ = model.predict_latent(x_test, tspan)\n",
    "        true.append(output_true[-1])\n",
    "        pred.append(output[-1, :len(species)])\n",
    "        stdv.append(output_stdv[-1, :len(species)])\n",
    "        spcs.append(species)\n",
    "\n",
    "        # increase teval\n",
    "        t_eval = np.linspace(0, tspan[-1])\n",
    "        steps = len(t_eval)\n",
    "        output, output_stdv, _ = model.predict_latent(x_test, t_eval)\n",
    "        # output = model.predict_point(x_test, t_eval)\n",
    "\n",
    "        # plot the results\n",
    "        plt.figure(figsize=(9, 6))\n",
    "        ylim = 0\n",
    "        for i, sp in enumerate(species):\n",
    "            out = output[:,i]\n",
    "            out_true = output_true[:, i]\n",
    "            if out[0] > 0:\n",
    "                plt.scatter(tspan, out_true, color='C{}'.format(i))\n",
    "                plt.plot(t_eval, out, label=f\"Predicted {sp}\", color='C{}'.format(i))\n",
    "                plt.fill_between(t_eval, out-output_stdv[:, i], out+output_stdv[:, i], color='C{}'.format(i), alpha=0.2)\n",
    "                \n",
    "        plt.xlabel(\"Time (hr)\")\n",
    "        plt.ylabel(\"Species abundance\")\n",
    "        #plt.legend(loc='upper left')\n",
    "        plt.title(f\"{treatment}\")\n",
    "        plt.savefig(\"figures/CRNN_mono_s.pdf\")\n",
    "        plt.show()\n",
    "        \n",
    "        # plot predictions of hidden variables\n",
    "        for k in range(output.shape[-1] - (i+1)):\n",
    "            plt.plot(t_eval, np.exp(output[:,i+1+k]), label=f\"Predicted R{k+1}\", color=f'C{k+1}')\n",
    "            '''plt.fill_between(t_eval, \n",
    "                             np.exp(output[:,i+1+k] - stdv[:,i+1+k]), \n",
    "                             np.exp(output[:,i+1+k] + stdv[:,i+1+k]), \n",
    "                             color=f'C{k+1}', alpha=0.2)'''\n",
    "\n",
    "        plt.legend()\n",
    "        plt.ylabel(\"Resource concentration\")\n",
    "        plt.xlabel(\"Time (hr)\")\n",
    "        # plt.savefig(\"figures/CRNN_mono_r.pdf\")\n",
    "        plt.show()\n",
    "        \n",
    "    return np.concatenate(true), np.concatenate(pred), np.concatenate(stdv), np.concatenate(spcs)"
   ]
  },
  {
   "cell_type": "markdown",
   "metadata": {},
   "source": [
    "# Initialize model parameters"
   ]
  },
  {
   "cell_type": "code",
   "execution_count": 8,
   "metadata": {},
   "outputs": [
    {
     "data": {
      "text/plain": [
       "819"
      ]
     },
     "execution_count": 8,
     "metadata": {},
     "output_type": "execute_result"
    }
   ],
   "source": [
    "# input to NN includes species, resources (and maybe also time) \n",
    "n_x = n_s + n_r\n",
    "\n",
    "# dimension of hidden layer\n",
    "n_h = 8\n",
    "\n",
    "# normalizing constant for time as input\n",
    "t_max = np.max(gLV_data.Time.values)\n",
    "\n",
    "# log of death rate \n",
    "d = -3.*np.ones(n_s)\n",
    "\n",
    "# map to hidden dimension\n",
    "p_std = 1./np.sqrt(n_x)\n",
    "W1 = p_std*np.random.randn(n_h, n_x)\n",
    "b1 = np.random.randn(n_h)\n",
    "\n",
    "# parameters to compute efficiency matrix\n",
    "p_std = 1./np.sqrt(n_h)\n",
    "W2 = p_std*np.random.randn(n_r+2*n_s, n_h) \n",
    "b2 = np.random.randn(n_r+2*n_s)\n",
    "\n",
    "# concatenate parameter initial guess\n",
    "params = np.concatenate((d, W1.flatten(), b1, C.flatten(), W2.flatten(), b2.flatten(), P.flatten(), K))\n",
    "\n",
    "# set prior so that C is sparse \n",
    "W1prior = np.zeros_like(W1)\n",
    "b1prior = np.zeros_like(b1)\n",
    "Cprior = -5.*np.ones([n_r, n_s]) \n",
    "Pprior = -5.*np.ones([n_r, n_s])\n",
    "W2prior = np.zeros_like(W2)\n",
    "b2prior = np.zeros_like(b2)\n",
    "\n",
    "# concatenate prior \n",
    "prior = np.concatenate((d, W1prior.flatten(), b1prior, Cprior.flatten(), W2prior.flatten(), b2prior.flatten(), Pprior.flatten(), K))\n",
    "\n",
    "n_params = len(params)\n",
    "n_params"
   ]
  },
  {
   "cell_type": "markdown",
   "metadata": {},
   "source": [
    "# Define model"
   ]
  },
  {
   "cell_type": "code",
   "execution_count": 9,
   "metadata": {},
   "outputs": [],
   "source": [
    "# using consumer resource model  \n",
    "def system(t, x, params): \n",
    "    \n",
    "    # species \n",
    "    s = x[:n_s]\n",
    "    \n",
    "    # resources\n",
    "    r = jnp.exp(x[n_s:])\n",
    "    \n",
    "    # compute state \n",
    "    state = jnp.concatenate((s, r))\n",
    "    \n",
    "    # death rate\n",
    "    d = jnp.exp(params[:n_s])\n",
    "    \n",
    "    # map to hidden layer\n",
    "    W1 = np.reshape(params[n_s:n_s+n_x*n_h], [n_h, n_x])\n",
    "    b1 = params[n_s+n_x*n_h:n_s+n_x*n_h+n_h]\n",
    "    h1 = jnp.tanh(W1@state + b1)\n",
    "    \n",
    "    # maximum consumption rate parameters\n",
    "    Cmax = jnp.exp(np.reshape(params[n_s+n_x*n_h+n_h:n_s+n_x*n_h+n_h+n_r*n_s], [n_r, n_s]))\n",
    "    \n",
    "    # attractiveness of resource i to species j / consumption efficiency\n",
    "    W2 = np.reshape(params[n_s+n_x*n_h+n_h+n_r*n_s:n_s+n_x*n_h+n_h+n_r*n_s+(n_r+2*n_s)*n_h], [n_r+2*n_s, n_h])\n",
    "    b2 = np.reshape(params[n_s+n_x*n_h+n_h+n_r*n_s+(n_r+2*n_s)*n_h:n_s+n_x*n_h+n_h+n_r*n_s+(n_r+2*n_s)*n_h+n_r+2*n_s], [n_r+2*n_s])\n",
    "    h2 = jax.nn.sigmoid(W2@h1 + b2)\n",
    "    \n",
    "    # divide hidden layer into resource availability, species growth efficiency, resource production efficiency\n",
    "    f = h2[:n_r]\n",
    "    g = h2[n_r:n_r+n_s]\n",
    "    h = h2[n_r+n_s:]\n",
    "    \n",
    "    # update Consumption matrix according to resource attractiveness \n",
    "    C = jnp.einsum(\"i,ij->ij\", f, Cmax)\n",
    "    \n",
    "    # max production rate\n",
    "    Pmax = jnp.exp(jnp.reshape(params[n_s+n_x*n_h+n_h+n_r*n_s+(n_r+2*n_s)*n_h+n_r+2*n_s:n_s+n_x*n_h+n_h+n_r*n_s+(n_r+2*n_s)*n_h+n_r+2*n_s+n_r*n_s], [n_r, n_s]))\n",
    "    K = jnp.exp(params[n_s+n_x*n_h+n_h+n_r*n_s+(n_r+2*n_s)*n_h+n_r+2*n_s+n_r*n_s:])\n",
    "    \n",
    "    # scaled production rate\n",
    "    P = jnp.einsum(\"ij,j->ij\", Pmax, h)\n",
    "    \n",
    "    # rate of change of species \n",
    "    dsdt = s*(g*(C.T@r) - d)\n",
    "\n",
    "    # rate of change of log of resources \n",
    "    dlrdt = (1. - r/K) * ((P-C)@s) \n",
    "\n",
    "    return jnp.append(dsdt, dlrdt)"
   ]
  },
  {
   "cell_type": "markdown",
   "metadata": {},
   "source": [
    "# Define observation matrix"
   ]
  },
  {
   "cell_type": "code",
   "execution_count": 10,
   "metadata": {
    "scrolled": true
   },
   "outputs": [
    {
     "data": {
      "text/plain": [
       "array([[1., 0., 0., 0., 0., 0., 0., 0., 0., 0., 0., 0., 0., 0., 0., 0.,\n",
       "        0., 0., 0., 0., 0., 0., 0., 0., 0., 0., 0.],\n",
       "       [0., 1., 0., 0., 0., 0., 0., 0., 0., 0., 0., 0., 0., 0., 0., 0.,\n",
       "        0., 0., 0., 0., 0., 0., 0., 0., 0., 0., 0.],\n",
       "       [0., 0., 1., 0., 0., 0., 0., 0., 0., 0., 0., 0., 0., 0., 0., 0.,\n",
       "        0., 0., 0., 0., 0., 0., 0., 0., 0., 0., 0.],\n",
       "       [0., 0., 0., 1., 0., 0., 0., 0., 0., 0., 0., 0., 0., 0., 0., 0.,\n",
       "        0., 0., 0., 0., 0., 0., 0., 0., 0., 0., 0.],\n",
       "       [0., 0., 0., 0., 1., 0., 0., 0., 0., 0., 0., 0., 0., 0., 0., 0.,\n",
       "        0., 0., 0., 0., 0., 0., 0., 0., 0., 0., 0.],\n",
       "       [0., 0., 0., 0., 0., 1., 0., 0., 0., 0., 0., 0., 0., 0., 0., 0.,\n",
       "        0., 0., 0., 0., 0., 0., 0., 0., 0., 0., 0.],\n",
       "       [0., 0., 0., 0., 0., 0., 1., 0., 0., 0., 0., 0., 0., 0., 0., 0.,\n",
       "        0., 0., 0., 0., 0., 0., 0., 0., 0., 0., 0.],\n",
       "       [0., 0., 0., 0., 0., 0., 0., 1., 0., 0., 0., 0., 0., 0., 0., 0.,\n",
       "        0., 0., 0., 0., 0., 0., 0., 0., 0., 0., 0.],\n",
       "       [0., 0., 0., 0., 0., 0., 0., 0., 1., 0., 0., 0., 0., 0., 0., 0.,\n",
       "        0., 0., 0., 0., 0., 0., 0., 0., 0., 0., 0.],\n",
       "       [0., 0., 0., 0., 0., 0., 0., 0., 0., 1., 0., 0., 0., 0., 0., 0.,\n",
       "        0., 0., 0., 0., 0., 0., 0., 0., 0., 0., 0.],\n",
       "       [0., 0., 0., 0., 0., 0., 0., 0., 0., 0., 1., 0., 0., 0., 0., 0.,\n",
       "        0., 0., 0., 0., 0., 0., 0., 0., 0., 0., 0.],\n",
       "       [0., 0., 0., 0., 0., 0., 0., 0., 0., 0., 0., 1., 0., 0., 0., 0.,\n",
       "        0., 0., 0., 0., 0., 0., 0., 0., 0., 0., 0.],\n",
       "       [0., 0., 0., 0., 0., 0., 0., 0., 0., 0., 0., 0., 1., 0., 0., 0.,\n",
       "        0., 0., 0., 0., 0., 0., 0., 0., 0., 0., 0.],\n",
       "       [0., 0., 0., 0., 0., 0., 0., 0., 0., 0., 0., 0., 0., 1., 0., 0.,\n",
       "        0., 0., 0., 0., 0., 0., 0., 0., 0., 0., 0.],\n",
       "       [0., 0., 0., 0., 0., 0., 0., 0., 0., 0., 0., 0., 0., 0., 1., 0.,\n",
       "        0., 0., 0., 0., 0., 0., 0., 0., 0., 0., 0.],\n",
       "       [0., 0., 0., 0., 0., 0., 0., 0., 0., 0., 0., 0., 0., 0., 0., 1.,\n",
       "        0., 0., 0., 0., 0., 0., 0., 0., 0., 0., 0.],\n",
       "       [0., 0., 0., 0., 0., 0., 0., 0., 0., 0., 0., 0., 0., 0., 0., 0.,\n",
       "        1., 0., 0., 0., 0., 0., 0., 0., 0., 0., 0.],\n",
       "       [0., 0., 0., 0., 0., 0., 0., 0., 0., 0., 0., 0., 0., 0., 0., 0.,\n",
       "        0., 1., 0., 0., 0., 0., 0., 0., 0., 0., 0.],\n",
       "       [0., 0., 0., 0., 0., 0., 0., 0., 0., 0., 0., 0., 0., 0., 0., 0.,\n",
       "        0., 0., 1., 0., 0., 0., 0., 0., 0., 0., 0.],\n",
       "       [0., 0., 0., 0., 0., 0., 0., 0., 0., 0., 0., 0., 0., 0., 0., 0.,\n",
       "        0., 0., 0., 1., 0., 0., 0., 0., 0., 0., 0.],\n",
       "       [0., 0., 0., 0., 0., 0., 0., 0., 0., 0., 0., 0., 0., 0., 0., 0.,\n",
       "        0., 0., 0., 0., 1., 0., 0., 0., 0., 0., 0.],\n",
       "       [0., 0., 0., 0., 0., 0., 0., 0., 0., 0., 0., 0., 0., 0., 0., 0.,\n",
       "        0., 0., 0., 0., 0., 1., 0., 0., 0., 0., 0.],\n",
       "       [0., 0., 0., 0., 0., 0., 0., 0., 0., 0., 0., 0., 0., 0., 0., 0.,\n",
       "        0., 0., 0., 0., 0., 0., 1., 0., 0., 0., 0.],\n",
       "       [0., 0., 0., 0., 0., 0., 0., 0., 0., 0., 0., 0., 0., 0., 0., 0.,\n",
       "        0., 0., 0., 0., 0., 0., 0., 1., 0., 0., 0.],\n",
       "       [0., 0., 0., 0., 0., 0., 0., 0., 0., 0., 0., 0., 0., 0., 0., 0.,\n",
       "        0., 0., 0., 0., 0., 0., 0., 0., 1., 0., 0.]])"
      ]
     },
     "execution_count": 10,
     "metadata": {},
     "output_type": "execute_result"
    }
   ],
   "source": [
    "# define observation matrices \n",
    "O = np.zeros([n_s, n_s+n_r])\n",
    "O[:n_s,:n_s] = np.eye(n_s)\n",
    "O"
   ]
  },
  {
   "cell_type": "markdown",
   "metadata": {},
   "source": [
    "# Fit model to mono culture data"
   ]
  },
  {
   "cell_type": "code",
   "execution_count": 11,
   "metadata": {
    "scrolled": true
   },
   "outputs": [
    {
     "name": "stdout",
     "output_type": "stream",
     "text": [
      "[-0.6737644  -0.51678308]\n",
      "Updating precision...\n",
      "Total samples: 7125, Updated regularization: 1.00e-05\n",
      "Total weighted fitting error: 79.557\n"
     ]
    },
    {
     "ename": "KeyboardInterrupt",
     "evalue": "",
     "output_type": "error",
     "traceback": [
      "\u001b[0;31m---------------------------------------------------------------------------\u001b[0m",
      "\u001b[0;31mKeyboardInterrupt\u001b[0m                         Traceback (most recent call last)",
      "\u001b[0;32m/tmp/ipykernel_45778/809236850.py\u001b[0m in \u001b[0;36m<module>\u001b[0;34m\u001b[0m\n\u001b[1;32m     15\u001b[0m \u001b[0;31m# fit to data\u001b[0m\u001b[0;34m\u001b[0m\u001b[0;34m\u001b[0m\u001b[0m\n\u001b[1;32m     16\u001b[0m \u001b[0mt0\u001b[0m \u001b[0;34m=\u001b[0m \u001b[0mtime\u001b[0m\u001b[0;34m.\u001b[0m\u001b[0mtime\u001b[0m\u001b[0;34m(\u001b[0m\u001b[0;34m)\u001b[0m\u001b[0;34m\u001b[0m\u001b[0;34m\u001b[0m\u001b[0m\n\u001b[0;32m---> 17\u001b[0;31m \u001b[0mmodel\u001b[0m\u001b[0;34m.\u001b[0m\u001b[0mfit\u001b[0m\u001b[0;34m(\u001b[0m\u001b[0mevidence_tol\u001b[0m\u001b[0;34m=\u001b[0m\u001b[0;36m1e-3\u001b[0m\u001b[0;34m,\u001b[0m \u001b[0mpatience\u001b[0m\u001b[0;34m=\u001b[0m\u001b[0;36m1\u001b[0m\u001b[0;34m,\u001b[0m \u001b[0mmax_fails\u001b[0m\u001b[0;34m=\u001b[0m\u001b[0;36m2\u001b[0m\u001b[0;34m)\u001b[0m\u001b[0;34m\u001b[0m\u001b[0;34m\u001b[0m\u001b[0m\n\u001b[0m\u001b[1;32m     18\u001b[0m \u001b[0mprint\u001b[0m\u001b[0;34m(\u001b[0m\u001b[0;34m\"Elapsed time {:.2f}s\"\u001b[0m\u001b[0;34m.\u001b[0m\u001b[0mformat\u001b[0m\u001b[0;34m(\u001b[0m\u001b[0mtime\u001b[0m\u001b[0;34m.\u001b[0m\u001b[0mtime\u001b[0m\u001b[0;34m(\u001b[0m\u001b[0;34m)\u001b[0m\u001b[0;34m-\u001b[0m\u001b[0mt0\u001b[0m\u001b[0;34m)\u001b[0m\u001b[0;34m)\u001b[0m\u001b[0;34m\u001b[0m\u001b[0;34m\u001b[0m\u001b[0m\n",
      "\u001b[0;32m~/Documents/BAMF/bamf/bamfCR.py\u001b[0m in \u001b[0;36mfit\u001b[0;34m(self, evidence_tol, nlp_tol, patience, max_fails)\u001b[0m\n\u001b[1;32m    303\u001b[0m             \u001b[0mself\u001b[0m\u001b[0;34m.\u001b[0m\u001b[0mupdate_precision\u001b[0m\u001b[0;34m(\u001b[0m\u001b[0;34m)\u001b[0m\u001b[0;34m\u001b[0m\u001b[0;34m\u001b[0m\u001b[0m\n\u001b[1;32m    304\u001b[0m \u001b[0;34m\u001b[0m\u001b[0m\n\u001b[0;32m--> 305\u001b[0;31m             \u001b[0;31m# fit using updated Alpha and Beta\u001b[0m\u001b[0;34m\u001b[0m\u001b[0;34m\u001b[0m\u001b[0m\n\u001b[0m\u001b[1;32m    306\u001b[0m             self.res = minimize(fun=self.objective,\n\u001b[1;32m    307\u001b[0m                                 \u001b[0mjac\u001b[0m\u001b[0;34m=\u001b[0m\u001b[0mself\u001b[0m\u001b[0;34m.\u001b[0m\u001b[0mjacobian\u001b[0m\u001b[0;34m,\u001b[0m\u001b[0;34m\u001b[0m\u001b[0;34m\u001b[0m\u001b[0m\n",
      "\u001b[0;32m~/anaconda3/lib/python3.9/site-packages/scipy/optimize/_minimize.py\u001b[0m in \u001b[0;36mminimize\u001b[0;34m(fun, x0, args, method, jac, hess, hessp, bounds, constraints, tol, callback, options)\u001b[0m\n\u001b[1;32m    691\u001b[0m         \u001b[0mres\u001b[0m \u001b[0;34m=\u001b[0m \u001b[0m_minimize_bfgs\u001b[0m\u001b[0;34m(\u001b[0m\u001b[0mfun\u001b[0m\u001b[0;34m,\u001b[0m \u001b[0mx0\u001b[0m\u001b[0;34m,\u001b[0m \u001b[0margs\u001b[0m\u001b[0;34m,\u001b[0m \u001b[0mjac\u001b[0m\u001b[0;34m,\u001b[0m \u001b[0mcallback\u001b[0m\u001b[0;34m,\u001b[0m \u001b[0;34m**\u001b[0m\u001b[0moptions\u001b[0m\u001b[0;34m)\u001b[0m\u001b[0;34m\u001b[0m\u001b[0;34m\u001b[0m\u001b[0m\n\u001b[1;32m    692\u001b[0m     \u001b[0;32melif\u001b[0m \u001b[0mmeth\u001b[0m \u001b[0;34m==\u001b[0m \u001b[0;34m'newton-cg'\u001b[0m\u001b[0;34m:\u001b[0m\u001b[0;34m\u001b[0m\u001b[0;34m\u001b[0m\u001b[0m\n\u001b[0;32m--> 693\u001b[0;31m         res = _minimize_newtoncg(fun, x0, args, jac, hess, hessp, callback,\n\u001b[0m\u001b[1;32m    694\u001b[0m                                  **options)\n\u001b[1;32m    695\u001b[0m     \u001b[0;32melif\u001b[0m \u001b[0mmeth\u001b[0m \u001b[0;34m==\u001b[0m \u001b[0;34m'l-bfgs-b'\u001b[0m\u001b[0;34m:\u001b[0m\u001b[0;34m\u001b[0m\u001b[0;34m\u001b[0m\u001b[0m\n",
      "\u001b[0;32m~/anaconda3/lib/python3.9/site-packages/scipy/optimize/_optimize.py\u001b[0m in \u001b[0;36m_minimize_newtoncg\u001b[0;34m(fun, x0, args, jac, hess, hessp, callback, xtol, eps, maxiter, disp, return_all, **unknown_options)\u001b[0m\n\u001b[1;32m   2057\u001b[0m         \u001b[0;32mtry\u001b[0m\u001b[0;34m:\u001b[0m\u001b[0;34m\u001b[0m\u001b[0;34m\u001b[0m\u001b[0m\n\u001b[1;32m   2058\u001b[0m             \u001b[0malphak\u001b[0m\u001b[0;34m,\u001b[0m \u001b[0mfc\u001b[0m\u001b[0;34m,\u001b[0m \u001b[0mgc\u001b[0m\u001b[0;34m,\u001b[0m \u001b[0mold_fval\u001b[0m\u001b[0;34m,\u001b[0m \u001b[0mold_old_fval\u001b[0m\u001b[0;34m,\u001b[0m \u001b[0mgfkp1\u001b[0m \u001b[0;34m=\u001b[0m\u001b[0;31m \u001b[0m\u001b[0;31m\\\u001b[0m\u001b[0;34m\u001b[0m\u001b[0;34m\u001b[0m\u001b[0m\n\u001b[0;32m-> 2059\u001b[0;31m                      _line_search_wolfe12(f, fprime, xk, pk, gfk,\n\u001b[0m\u001b[1;32m   2060\u001b[0m                                           old_fval, old_old_fval)\n\u001b[1;32m   2061\u001b[0m         \u001b[0;32mexcept\u001b[0m \u001b[0m_LineSearchError\u001b[0m\u001b[0;34m:\u001b[0m\u001b[0;34m\u001b[0m\u001b[0;34m\u001b[0m\u001b[0m\n",
      "\u001b[0;32m~/anaconda3/lib/python3.9/site-packages/scipy/optimize/_optimize.py\u001b[0m in \u001b[0;36m_line_search_wolfe12\u001b[0;34m(f, fprime, xk, pk, gfk, old_fval, old_old_fval, **kwargs)\u001b[0m\n\u001b[1;32m   1158\u001b[0m     \u001b[0mextra_condition\u001b[0m \u001b[0;34m=\u001b[0m \u001b[0mkwargs\u001b[0m\u001b[0;34m.\u001b[0m\u001b[0mpop\u001b[0m\u001b[0;34m(\u001b[0m\u001b[0;34m'extra_condition'\u001b[0m\u001b[0;34m,\u001b[0m \u001b[0;32mNone\u001b[0m\u001b[0;34m)\u001b[0m\u001b[0;34m\u001b[0m\u001b[0;34m\u001b[0m\u001b[0m\n\u001b[1;32m   1159\u001b[0m \u001b[0;34m\u001b[0m\u001b[0m\n\u001b[0;32m-> 1160\u001b[0;31m     ret = line_search_wolfe1(f, fprime, xk, pk, gfk,\n\u001b[0m\u001b[1;32m   1161\u001b[0m                              \u001b[0mold_fval\u001b[0m\u001b[0;34m,\u001b[0m \u001b[0mold_old_fval\u001b[0m\u001b[0;34m,\u001b[0m\u001b[0;34m\u001b[0m\u001b[0;34m\u001b[0m\u001b[0m\n\u001b[1;32m   1162\u001b[0m                              **kwargs)\n",
      "\u001b[0;32m~/anaconda3/lib/python3.9/site-packages/scipy/optimize/_linesearch.py\u001b[0m in \u001b[0;36mline_search_wolfe1\u001b[0;34m(f, fprime, xk, pk, gfk, old_fval, old_old_fval, args, c1, c2, amax, amin, xtol)\u001b[0m\n\u001b[1;32m     82\u001b[0m     \u001b[0mderphi0\u001b[0m \u001b[0;34m=\u001b[0m \u001b[0mnp\u001b[0m\u001b[0;34m.\u001b[0m\u001b[0mdot\u001b[0m\u001b[0;34m(\u001b[0m\u001b[0mgfk\u001b[0m\u001b[0;34m,\u001b[0m \u001b[0mpk\u001b[0m\u001b[0;34m)\u001b[0m\u001b[0;34m\u001b[0m\u001b[0;34m\u001b[0m\u001b[0m\n\u001b[1;32m     83\u001b[0m \u001b[0;34m\u001b[0m\u001b[0m\n\u001b[0;32m---> 84\u001b[0;31m     stp, fval, old_fval = scalar_search_wolfe1(\n\u001b[0m\u001b[1;32m     85\u001b[0m             \u001b[0mphi\u001b[0m\u001b[0;34m,\u001b[0m \u001b[0mderphi\u001b[0m\u001b[0;34m,\u001b[0m \u001b[0mold_fval\u001b[0m\u001b[0;34m,\u001b[0m \u001b[0mold_old_fval\u001b[0m\u001b[0;34m,\u001b[0m \u001b[0mderphi0\u001b[0m\u001b[0;34m,\u001b[0m\u001b[0;34m\u001b[0m\u001b[0;34m\u001b[0m\u001b[0m\n\u001b[1;32m     86\u001b[0m             c1=c1, c2=c2, amax=amax, amin=amin, xtol=xtol)\n",
      "\u001b[0;32m~/anaconda3/lib/python3.9/site-packages/scipy/optimize/_linesearch.py\u001b[0m in \u001b[0;36mscalar_search_wolfe1\u001b[0;34m(phi, derphi, phi0, old_phi0, derphi0, c1, c2, amax, amin, xtol)\u001b[0m\n\u001b[1;32m    159\u001b[0m             \u001b[0malpha1\u001b[0m \u001b[0;34m=\u001b[0m \u001b[0mstp\u001b[0m\u001b[0;34m\u001b[0m\u001b[0;34m\u001b[0m\u001b[0m\n\u001b[1;32m    160\u001b[0m             \u001b[0mphi1\u001b[0m \u001b[0;34m=\u001b[0m \u001b[0mphi\u001b[0m\u001b[0;34m(\u001b[0m\u001b[0mstp\u001b[0m\u001b[0;34m)\u001b[0m\u001b[0;34m\u001b[0m\u001b[0;34m\u001b[0m\u001b[0m\n\u001b[0;32m--> 161\u001b[0;31m             \u001b[0mderphi1\u001b[0m \u001b[0;34m=\u001b[0m \u001b[0mderphi\u001b[0m\u001b[0;34m(\u001b[0m\u001b[0mstp\u001b[0m\u001b[0;34m)\u001b[0m\u001b[0;34m\u001b[0m\u001b[0;34m\u001b[0m\u001b[0m\n\u001b[0m\u001b[1;32m    162\u001b[0m         \u001b[0;32melse\u001b[0m\u001b[0;34m:\u001b[0m\u001b[0;34m\u001b[0m\u001b[0;34m\u001b[0m\u001b[0m\n\u001b[1;32m    163\u001b[0m             \u001b[0;32mbreak\u001b[0m\u001b[0;34m\u001b[0m\u001b[0;34m\u001b[0m\u001b[0m\n",
      "\u001b[0;32m~/anaconda3/lib/python3.9/site-packages/scipy/optimize/_linesearch.py\u001b[0m in \u001b[0;36mderphi\u001b[0;34m(s)\u001b[0m\n\u001b[1;32m     76\u001b[0m \u001b[0;34m\u001b[0m\u001b[0m\n\u001b[1;32m     77\u001b[0m     \u001b[0;32mdef\u001b[0m \u001b[0mderphi\u001b[0m\u001b[0;34m(\u001b[0m\u001b[0ms\u001b[0m\u001b[0;34m)\u001b[0m\u001b[0;34m:\u001b[0m\u001b[0;34m\u001b[0m\u001b[0;34m\u001b[0m\u001b[0m\n\u001b[0;32m---> 78\u001b[0;31m         \u001b[0mgval\u001b[0m\u001b[0;34m[\u001b[0m\u001b[0;36m0\u001b[0m\u001b[0;34m]\u001b[0m \u001b[0;34m=\u001b[0m \u001b[0mfprime\u001b[0m\u001b[0;34m(\u001b[0m\u001b[0mxk\u001b[0m \u001b[0;34m+\u001b[0m \u001b[0ms\u001b[0m\u001b[0;34m*\u001b[0m\u001b[0mpk\u001b[0m\u001b[0;34m,\u001b[0m \u001b[0;34m*\u001b[0m\u001b[0margs\u001b[0m\u001b[0;34m)\u001b[0m\u001b[0;34m\u001b[0m\u001b[0;34m\u001b[0m\u001b[0m\n\u001b[0m\u001b[1;32m     79\u001b[0m         \u001b[0mgc\u001b[0m\u001b[0;34m[\u001b[0m\u001b[0;36m0\u001b[0m\u001b[0;34m]\u001b[0m \u001b[0;34m+=\u001b[0m \u001b[0;36m1\u001b[0m\u001b[0;34m\u001b[0m\u001b[0;34m\u001b[0m\u001b[0m\n\u001b[1;32m     80\u001b[0m         \u001b[0;32mreturn\u001b[0m \u001b[0mnp\u001b[0m\u001b[0;34m.\u001b[0m\u001b[0mdot\u001b[0m\u001b[0;34m(\u001b[0m\u001b[0mgval\u001b[0m\u001b[0;34m[\u001b[0m\u001b[0;36m0\u001b[0m\u001b[0;34m]\u001b[0m\u001b[0;34m,\u001b[0m \u001b[0mpk\u001b[0m\u001b[0;34m)\u001b[0m\u001b[0;34m\u001b[0m\u001b[0;34m\u001b[0m\u001b[0m\n",
      "\u001b[0;32m~/anaconda3/lib/python3.9/site-packages/scipy/optimize/_differentiable_functions.py\u001b[0m in \u001b[0;36mgrad\u001b[0;34m(self, x)\u001b[0m\n\u001b[1;32m    271\u001b[0m         \u001b[0;32mif\u001b[0m \u001b[0;32mnot\u001b[0m \u001b[0mnp\u001b[0m\u001b[0;34m.\u001b[0m\u001b[0marray_equal\u001b[0m\u001b[0;34m(\u001b[0m\u001b[0mx\u001b[0m\u001b[0;34m,\u001b[0m \u001b[0mself\u001b[0m\u001b[0;34m.\u001b[0m\u001b[0mx\u001b[0m\u001b[0;34m)\u001b[0m\u001b[0;34m:\u001b[0m\u001b[0;34m\u001b[0m\u001b[0;34m\u001b[0m\u001b[0m\n\u001b[1;32m    272\u001b[0m             \u001b[0mself\u001b[0m\u001b[0;34m.\u001b[0m\u001b[0m_update_x_impl\u001b[0m\u001b[0;34m(\u001b[0m\u001b[0mx\u001b[0m\u001b[0;34m)\u001b[0m\u001b[0;34m\u001b[0m\u001b[0;34m\u001b[0m\u001b[0m\n\u001b[0;32m--> 273\u001b[0;31m         \u001b[0mself\u001b[0m\u001b[0;34m.\u001b[0m\u001b[0m_update_grad\u001b[0m\u001b[0;34m(\u001b[0m\u001b[0;34m)\u001b[0m\u001b[0;34m\u001b[0m\u001b[0;34m\u001b[0m\u001b[0m\n\u001b[0m\u001b[1;32m    274\u001b[0m         \u001b[0;32mreturn\u001b[0m \u001b[0mself\u001b[0m\u001b[0;34m.\u001b[0m\u001b[0mg\u001b[0m\u001b[0;34m\u001b[0m\u001b[0;34m\u001b[0m\u001b[0m\n\u001b[1;32m    275\u001b[0m \u001b[0;34m\u001b[0m\u001b[0m\n",
      "\u001b[0;32m~/anaconda3/lib/python3.9/site-packages/scipy/optimize/_differentiable_functions.py\u001b[0m in \u001b[0;36m_update_grad\u001b[0;34m(self)\u001b[0m\n\u001b[1;32m    254\u001b[0m     \u001b[0;32mdef\u001b[0m \u001b[0m_update_grad\u001b[0m\u001b[0;34m(\u001b[0m\u001b[0mself\u001b[0m\u001b[0;34m)\u001b[0m\u001b[0;34m:\u001b[0m\u001b[0;34m\u001b[0m\u001b[0;34m\u001b[0m\u001b[0m\n\u001b[1;32m    255\u001b[0m         \u001b[0;32mif\u001b[0m \u001b[0;32mnot\u001b[0m \u001b[0mself\u001b[0m\u001b[0;34m.\u001b[0m\u001b[0mg_updated\u001b[0m\u001b[0;34m:\u001b[0m\u001b[0;34m\u001b[0m\u001b[0;34m\u001b[0m\u001b[0m\n\u001b[0;32m--> 256\u001b[0;31m             \u001b[0mself\u001b[0m\u001b[0;34m.\u001b[0m\u001b[0m_update_grad_impl\u001b[0m\u001b[0;34m(\u001b[0m\u001b[0;34m)\u001b[0m\u001b[0;34m\u001b[0m\u001b[0;34m\u001b[0m\u001b[0m\n\u001b[0m\u001b[1;32m    257\u001b[0m             \u001b[0mself\u001b[0m\u001b[0;34m.\u001b[0m\u001b[0mg_updated\u001b[0m \u001b[0;34m=\u001b[0m \u001b[0;32mTrue\u001b[0m\u001b[0;34m\u001b[0m\u001b[0;34m\u001b[0m\u001b[0m\n\u001b[1;32m    258\u001b[0m \u001b[0;34m\u001b[0m\u001b[0m\n",
      "\u001b[0;32m~/anaconda3/lib/python3.9/site-packages/scipy/optimize/_differentiable_functions.py\u001b[0m in \u001b[0;36mupdate_grad\u001b[0;34m()\u001b[0m\n\u001b[1;32m    165\u001b[0m \u001b[0;34m\u001b[0m\u001b[0m\n\u001b[1;32m    166\u001b[0m             \u001b[0;32mdef\u001b[0m \u001b[0mupdate_grad\u001b[0m\u001b[0;34m(\u001b[0m\u001b[0;34m)\u001b[0m\u001b[0;34m:\u001b[0m\u001b[0;34m\u001b[0m\u001b[0;34m\u001b[0m\u001b[0m\n\u001b[0;32m--> 167\u001b[0;31m                 \u001b[0mself\u001b[0m\u001b[0;34m.\u001b[0m\u001b[0mg\u001b[0m \u001b[0;34m=\u001b[0m \u001b[0mgrad_wrapped\u001b[0m\u001b[0;34m(\u001b[0m\u001b[0mself\u001b[0m\u001b[0;34m.\u001b[0m\u001b[0mx\u001b[0m\u001b[0;34m)\u001b[0m\u001b[0;34m\u001b[0m\u001b[0;34m\u001b[0m\u001b[0m\n\u001b[0m\u001b[1;32m    168\u001b[0m \u001b[0;34m\u001b[0m\u001b[0m\n\u001b[1;32m    169\u001b[0m         \u001b[0;32melif\u001b[0m \u001b[0mgrad\u001b[0m \u001b[0;32min\u001b[0m \u001b[0mFD_METHODS\u001b[0m\u001b[0;34m:\u001b[0m\u001b[0;34m\u001b[0m\u001b[0;34m\u001b[0m\u001b[0m\n",
      "\u001b[0;32m~/anaconda3/lib/python3.9/site-packages/scipy/optimize/_differentiable_functions.py\u001b[0m in \u001b[0;36mgrad_wrapped\u001b[0;34m(x)\u001b[0m\n\u001b[1;32m    162\u001b[0m             \u001b[0;32mdef\u001b[0m \u001b[0mgrad_wrapped\u001b[0m\u001b[0;34m(\u001b[0m\u001b[0mx\u001b[0m\u001b[0;34m)\u001b[0m\u001b[0;34m:\u001b[0m\u001b[0;34m\u001b[0m\u001b[0;34m\u001b[0m\u001b[0m\n\u001b[1;32m    163\u001b[0m                 \u001b[0mself\u001b[0m\u001b[0;34m.\u001b[0m\u001b[0mngev\u001b[0m \u001b[0;34m+=\u001b[0m \u001b[0;36m1\u001b[0m\u001b[0;34m\u001b[0m\u001b[0;34m\u001b[0m\u001b[0m\n\u001b[0;32m--> 164\u001b[0;31m                 \u001b[0;32mreturn\u001b[0m \u001b[0mnp\u001b[0m\u001b[0;34m.\u001b[0m\u001b[0matleast_1d\u001b[0m\u001b[0;34m(\u001b[0m\u001b[0mgrad\u001b[0m\u001b[0;34m(\u001b[0m\u001b[0mnp\u001b[0m\u001b[0;34m.\u001b[0m\u001b[0mcopy\u001b[0m\u001b[0;34m(\u001b[0m\u001b[0mx\u001b[0m\u001b[0;34m)\u001b[0m\u001b[0;34m,\u001b[0m \u001b[0;34m*\u001b[0m\u001b[0margs\u001b[0m\u001b[0;34m)\u001b[0m\u001b[0;34m)\u001b[0m\u001b[0;34m\u001b[0m\u001b[0;34m\u001b[0m\u001b[0m\n\u001b[0m\u001b[1;32m    165\u001b[0m \u001b[0;34m\u001b[0m\u001b[0m\n\u001b[1;32m    166\u001b[0m             \u001b[0;32mdef\u001b[0m \u001b[0mupdate_grad\u001b[0m\u001b[0;34m(\u001b[0m\u001b[0;34m)\u001b[0m\u001b[0;34m:\u001b[0m\u001b[0;34m\u001b[0m\u001b[0;34m\u001b[0m\u001b[0m\n",
      "\u001b[0;32m~/Documents/BAMF/bamf/bamfCR.py\u001b[0m in \u001b[0;36mjacobian\u001b[0;34m(self, params)\u001b[0m\n\u001b[1;32m    493\u001b[0m             \u001b[0;31m#     # update adjoint\u001b[0m\u001b[0;34m\u001b[0m\u001b[0;34m\u001b[0m\u001b[0m\n\u001b[1;32m    494\u001b[0m             \u001b[0;31m#     grad_NLP += zal\u001b[0m\u001b[0;34m\u001b[0m\u001b[0;34m\u001b[0m\u001b[0m\n\u001b[0;32m--> 495\u001b[0;31m \u001b[0;34m\u001b[0m\u001b[0m\n\u001b[0m\u001b[1;32m    496\u001b[0m             \u001b[0mgrad_NLP\u001b[0m \u001b[0;34m+=\u001b[0m \u001b[0mnp\u001b[0m\u001b[0;34m.\u001b[0m\u001b[0msum\u001b[0m\u001b[0;34m(\u001b[0m\u001b[0mself\u001b[0m\u001b[0;34m.\u001b[0m\u001b[0mbatchODEA\u001b[0m\u001b[0;34m(\u001b[0m\u001b[0mt_eval\u001b[0m\u001b[0;34m[\u001b[0m\u001b[0;36m1\u001b[0m\u001b[0;34m:\u001b[0m\u001b[0;34m]\u001b[0m\u001b[0;34m,\u001b[0m \u001b[0moutput\u001b[0m\u001b[0;34m[\u001b[0m\u001b[0;36m1\u001b[0m\u001b[0;34m:\u001b[0m\u001b[0;34m]\u001b[0m\u001b[0;34m,\u001b[0m \u001b[0mat\u001b[0m\u001b[0;34m[\u001b[0m\u001b[0;36m1\u001b[0m\u001b[0;34m:\u001b[0m\u001b[0;34m]\u001b[0m\u001b[0;34m,\u001b[0m \u001b[0mparams\u001b[0m\u001b[0;34m[\u001b[0m\u001b[0mself\u001b[0m\u001b[0;34m.\u001b[0m\u001b[0mn_r\u001b[0m\u001b[0;34m:\u001b[0m\u001b[0;34m]\u001b[0m\u001b[0;34m)\u001b[0m\u001b[0;34m,\u001b[0m \u001b[0;36m0\u001b[0m\u001b[0;34m)\u001b[0m\u001b[0;34m\u001b[0m\u001b[0;34m\u001b[0m\u001b[0m\n\u001b[1;32m    497\u001b[0m \u001b[0;34m\u001b[0m\u001b[0m\n",
      "\u001b[0;31mKeyboardInterrupt\u001b[0m: "
     ]
    }
   ],
   "source": [
    "r0 = np.random.uniform(-1, 0, n_r)\n",
    "# r0 = np.sort(r0)[::-1]\n",
    "print(r0)\n",
    "\n",
    "model = ODE(system = system, \n",
    "            dataframe=gLV_data,\n",
    "            C=O,\n",
    "            CRparams = params, \n",
    "            r0 = r0,\n",
    "            prior = prior,\n",
    "            species = species,\n",
    "            alpha_0=1e-5,\n",
    "            verbose=True)\n",
    "\n",
    "# fit to data \n",
    "t0 = time.time()\n",
    "model.fit(evidence_tol=1e-3, patience=1, max_fails=2)\n",
    "print(\"Elapsed time {:.2f}s\".format(time.time()-t0))"
   ]
  },
  {
   "cell_type": "code",
   "execution_count": null,
   "metadata": {
    "scrolled": true
   },
   "outputs": [],
   "source": [
    "# plot fit to mono data \n",
    "# model.update_precision()\n",
    "true, pred, stdv, spcs = plot(model, gLV_data)"
   ]
  },
  {
   "cell_type": "code",
   "execution_count": null,
   "metadata": {},
   "outputs": [],
   "source": [
    "for i,sp in enumerate(np.unique(spcs)):\n",
    "    sp_inds = spcs == sp\n",
    "    inds_pos = true[sp_inds] > 0\n",
    "    \n",
    "    R = linregress(true[sp_inds][inds_pos], pred[sp_inds][inds_pos]).rvalue\n",
    "    plt.scatter(true[sp_inds][inds_pos], pred[sp_inds][inds_pos], c=f\"C{i}\", label=sp + \" R={:.2f}\".format(R))\n",
    "plt.legend(loc=\"lower right\")\n",
    "plt.show()"
   ]
  },
  {
   "cell_type": "markdown",
   "metadata": {},
   "source": [
    "# Correlate predicted resource with measured metabolites"
   ]
  },
  {
   "cell_type": "code",
   "execution_count": null,
   "metadata": {},
   "outputs": [],
   "source": [
    "# lactate measurements \n",
    "Lactate = {}\n",
    "\n",
    "for treatment, df in gLV_data.groupby(\"Treatments\"):\n",
    "    Lactate[treatment] = df['Lactate'].values[-1]\n",
    "    \n",
    "# acetate measurements \n",
    "Acetate = {}\n",
    "\n",
    "for treatment, df in gLV_data.groupby(\"Treatments\"):\n",
    "    Acetate[treatment] = df['Acetate'].values[-1] \n",
    "    \n",
    "# succinate measurements \n",
    "Succinate = {}\n",
    "\n",
    "for treatment, df in gLV_data.groupby(\"Treatments\"):\n",
    "    Succinate[treatment] = df['Succinate'].values[-1]"
   ]
  },
  {
   "cell_type": "code",
   "execution_count": null,
   "metadata": {},
   "outputs": [],
   "source": [
    "# resource predictions \n",
    "R1_preds = {}\n",
    "\n",
    "# loop over each sample in dataset\n",
    "for treatment, t_eval, Y_measured in model.dataset:\n",
    "\n",
    "    # run model using current parameters, output = [n_time, self.n_sys_vars]\n",
    "    output = np.nan_to_num(model.runODE(t_eval, Y_measured[0], model.params[:n_r], model.params[n_r:]))\n",
    "    \n",
    "    R1_preds[treatment] = np.exp(output[-1, n_s:])[0]\n",
    "\n",
    "# resource predictions \n",
    "R2_preds = {}\n",
    "\n",
    "# loop over each sample in dataset\n",
    "for treatment, t_eval, Y_measured in model.dataset:\n",
    "\n",
    "    # run model using current parameters, output = [n_time, self.n_sys_vars]\n",
    "    output = np.nan_to_num(model.runODE(t_eval, Y_measured[0], model.params[:n_r], model.params[n_r:]))\n",
    "    \n",
    "    R2_preds[treatment] = np.exp(output[-1, n_s:])[1]"
   ]
  },
  {
   "cell_type": "code",
   "execution_count": null,
   "metadata": {},
   "outputs": [],
   "source": [
    "pred_vals = []\n",
    "true_vals = []\n",
    "\n",
    "for treatment, df in gLV_data.groupby(\"Treatments\"):\n",
    "    pred_vals.append(R1_preds[treatment])\n",
    "    true_vals.append(Lactate[treatment])\n",
    "\n",
    "rho, pvalue = spearmanr(pred_vals, true_vals)\n",
    "\n",
    "plt.scatter(pred_vals, true_vals, label=r\"$\\rho$={:.3f}, p-value={:.2e}\".format(rho, pvalue))\n",
    "plt.xlabel(\"Predicted resource 1\")\n",
    "plt.ylabel(\"Measured Lactate (mM)\")\n",
    "plt.legend(loc='upper left', fontsize=16)\n",
    "plt.title(\"Lactate vs. R1\")\n",
    "plt.show()"
   ]
  },
  {
   "cell_type": "code",
   "execution_count": null,
   "metadata": {},
   "outputs": [],
   "source": [
    "pred_vals = []\n",
    "true_vals = []\n",
    "\n",
    "for treatment, df in gLV_data.groupby(\"Treatments\"):\n",
    "    pred_vals.append(R2_preds[treatment])\n",
    "    true_vals.append(Lactate[treatment])\n",
    "\n",
    "rho, pvalue = spearmanr(pred_vals, true_vals)\n",
    "\n",
    "plt.scatter(pred_vals, true_vals, label=r\"$\\rho$={:.3f}, p-value={:.2e}\".format(rho, pvalue))\n",
    "plt.xlabel(\"Predicted resource 2\")\n",
    "plt.ylabel(\"Measured Lactate (mM)\")\n",
    "plt.legend(loc='upper left', fontsize=16)\n",
    "plt.title(\"Lactate vs. R2\")\n",
    "plt.show()"
   ]
  },
  {
   "cell_type": "code",
   "execution_count": null,
   "metadata": {},
   "outputs": [],
   "source": [
    "pred_vals = []\n",
    "true_vals = []\n",
    "\n",
    "for treatment, df in gLV_data.groupby(\"Treatments\"):\n",
    "    pred_vals.append(R1_preds[treatment])\n",
    "    true_vals.append(Acetate[treatment])\n",
    "\n",
    "rho, pvalue = spearmanr(pred_vals, true_vals)\n",
    "\n",
    "plt.scatter(pred_vals, true_vals, label=r\"$\\rho$={:.3f}, p-value={:.2e}\".format(rho, pvalue))\n",
    "plt.xlabel(\"Predicted resource 1\")\n",
    "plt.ylabel(\"Measured Acetate (mM)\")\n",
    "plt.legend(loc='upper left', fontsize=16)\n",
    "plt.title(\"Acetate vs. R1\")\n",
    "plt.show()"
   ]
  },
  {
   "cell_type": "code",
   "execution_count": null,
   "metadata": {},
   "outputs": [],
   "source": [
    "pred_vals = []\n",
    "true_vals = []\n",
    "\n",
    "for treatment, df in gLV_data.groupby(\"Treatments\"):\n",
    "    pred_vals.append(R2_preds[treatment])\n",
    "    true_vals.append(Acetate[treatment])\n",
    "\n",
    "rho, pvalue = spearmanr(pred_vals, true_vals)\n",
    "\n",
    "plt.scatter(pred_vals, true_vals, label=r\"$\\rho$={:.3f}, p-value={:.2e}\".format(rho, pvalue))\n",
    "plt.xlabel(\"Predicted resource 2\")\n",
    "plt.ylabel(\"Measured Acetate (mM)\")\n",
    "plt.legend(loc='upper left', fontsize=16)\n",
    "plt.title(\"Acetate vs. R2\")\n",
    "plt.show()"
   ]
  },
  {
   "cell_type": "code",
   "execution_count": null,
   "metadata": {},
   "outputs": [],
   "source": [
    "pred_vals = []\n",
    "true_vals = []\n",
    "\n",
    "for treatment, df in gLV_data.groupby(\"Treatments\"):\n",
    "    pred_vals.append(R1_preds[treatment])\n",
    "    true_vals.append(Succinate[treatment])\n",
    "\n",
    "rho, pvalue = spearmanr(pred_vals, true_vals)\n",
    "\n",
    "plt.scatter(pred_vals, true_vals, label=r\"$\\rho$={:.3f}, p-value={:.2e}\".format(rho, pvalue))\n",
    "plt.xlabel(\"Predicted resource 1\")\n",
    "plt.ylabel(\"Measured Succinate (mM)\")\n",
    "plt.legend(loc='upper left', fontsize=16)\n",
    "plt.title(\"Succinate vs. R1\")\n",
    "plt.show()"
   ]
  },
  {
   "cell_type": "code",
   "execution_count": null,
   "metadata": {},
   "outputs": [],
   "source": [
    "pred_vals = []\n",
    "true_vals = []\n",
    "\n",
    "for treatment, df in gLV_data.groupby(\"Treatments\"):\n",
    "    pred_vals.append(R2_preds[treatment])\n",
    "    true_vals.append(Succinate[treatment])\n",
    "\n",
    "rho, pvalue = spearmanr(pred_vals, true_vals)\n",
    "\n",
    "plt.scatter(pred_vals, true_vals, label=r\"$\\rho$={:.3f}, p-value={:.2e}\".format(rho, pvalue))\n",
    "plt.xlabel(\"Predicted resource 2\")\n",
    "plt.ylabel(\"Measured Succinate (mM)\")\n",
    "plt.legend(loc='upper left', fontsize=16)\n",
    "plt.title(\"Succinate vs. R2\")\n",
    "plt.show()"
   ]
  },
  {
   "cell_type": "markdown",
   "metadata": {},
   "source": [
    "# Correlation between Acetate and Lactate"
   ]
  },
  {
   "cell_type": "code",
   "execution_count": null,
   "metadata": {},
   "outputs": [],
   "source": [
    "lactate_vals = []\n",
    "acetate_vals = []\n",
    "\n",
    "for treatment, df in gLV_data.groupby(\"Treatments\"):\n",
    "    lactate_vals.append(df['Lactate'].values[-1])\n",
    "    acetate_vals.append(df['Acetate'].values[-1])"
   ]
  },
  {
   "cell_type": "code",
   "execution_count": null,
   "metadata": {},
   "outputs": [],
   "source": [
    "rho, pvalue = spearmanr(acetate_vals, lactate_vals)\n",
    "\n",
    "plt.scatter(acetate_vals, lactate_vals, label=r\"$\\rho$={:.3f}, p-value={:.2e}\".format(rho, pvalue))\n",
    "plt.xlabel(\"Measured Acetate (mM)\")\n",
    "plt.ylabel(\"Measured Lactate (mM)\")\n",
    "plt.legend(loc='upper left', fontsize=16)\n",
    "plt.savefig(\"figures/lactate_vs_acetate.pdf\")\n",
    "plt.show()"
   ]
  }
 ],
 "metadata": {
  "kernelspec": {
   "display_name": "Python 3 (ipykernel)",
   "language": "python",
   "name": "python3"
  },
  "language_info": {
   "codemirror_mode": {
    "name": "ipython",
    "version": 3
   },
   "file_extension": ".py",
   "mimetype": "text/x-python",
   "name": "python",
   "nbconvert_exporter": "python",
   "pygments_lexer": "ipython3",
   "version": "3.9.13"
  }
 },
 "nbformat": 4,
 "nbformat_minor": 4
}
